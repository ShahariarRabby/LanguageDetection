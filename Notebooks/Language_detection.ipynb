{
 "cells": [
  {
   "cell_type": "markdown",
   "metadata": {},
   "source": [
    "# Language detection from receipts text"
   ]
  },
  {
   "cell_type": "code",
   "execution_count": 1,
   "metadata": {},
   "outputs": [],
   "source": [
    "import json\n",
    "from langdetect import detect "
   ]
  },
  {
   "cell_type": "code",
   "execution_count": 2,
   "metadata": {},
   "outputs": [],
   "source": [
    "file = 'text.json'"
   ]
  },
  {
   "cell_type": "code",
   "execution_count": 3,
   "metadata": {},
   "outputs": [],
   "source": [
    "def processing(route):\n",
    "    try:\n",
    "        archieve_json = open(route, 'r', encoding=\"utf8\")\n",
    "        data_json = json.load(archieve_json)\n",
    "        archieve_json.close()\n",
    "    except Exception as erro:\n",
    "        print(\"error occured : {}\".format(erro))\n",
    "\n",
    "    def create_string(archieve_json):\n",
    "        data = []\n",
    "        for i in archieve_json:\n",
    "            data.append(i)\n",
    "        return data\n",
    "    \n",
    "    def listToString(data):\n",
    "        str1 = \" \"\n",
    "        return(str1.join(data))\n",
    "\n",
    "    def removeUndesired(data_string):\n",
    "        result = ''.join([i for i in data_string if not i.isdigit()])\n",
    "        result = result.replace('*',' ').replace('#',' ').replace('%',' ').replace('/',' ').replace(':',' ')\n",
    "        result = result.lower()\n",
    "        return result\n",
    "    \n",
    "    data = create_string(data_json)\n",
    "    data_string = listToString(data)\n",
    "    final_string = removeUndesired(data_string)\n",
    "\n",
    "    return final_string"
   ]
  },
  {
   "cell_type": "code",
   "execution_count": 4,
   "metadata": {},
   "outputs": [],
   "source": [
    "text = processing(file)"
   ]
  },
  {
   "cell_type": "code",
   "execution_count": 5,
   "metadata": {},
   "outputs": [
    {
     "data": {
      "text/plain": [
       "'food. frost ices.   kroger fuel   gahanna, oh     vour cashier was ron  i prepaid fuel np      balance . kroger fuel  gahanna oh     ttt ttt tet ect t ttl elle ll lll ltt! mastercard  er  purchase hhhkaakkkakag  amount  . ref   ro oooo ork ek mastercard . rr change . l number of items sold =      am    '"
      ]
     },
     "execution_count": 5,
     "metadata": {},
     "output_type": "execute_result"
    }
   ],
   "source": [
    "text"
   ]
  },
  {
   "cell_type": "code",
   "execution_count": 6,
   "metadata": {},
   "outputs": [
    {
     "name": "stdout",
     "output_type": "stream",
     "text": [
      "Your text is write in en\n"
     ]
    }
   ],
   "source": [
    "lg = detect(text)\n",
    "print('Your text is write in {}'.format(lg))"
   ]
  },
  {
   "cell_type": "code",
   "execution_count": null,
   "metadata": {},
   "outputs": [],
   "source": []
  }
 ],
 "metadata": {
  "kernelspec": {
   "display_name": "Python 3",
   "language": "python",
   "name": "python3"
  },
  "language_info": {
   "codemirror_mode": {
    "name": "ipython",
    "version": 3
   },
   "file_extension": ".py",
   "mimetype": "text/x-python",
   "name": "python",
   "nbconvert_exporter": "python",
   "pygments_lexer": "ipython3",
   "version": "3.5.2"
  }
 },
 "nbformat": 4,
 "nbformat_minor": 4
}
